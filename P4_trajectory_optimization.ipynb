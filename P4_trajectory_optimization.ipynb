{
 "cells": [
  {
   "cell_type": "markdown",
   "metadata": {
    "id": "WshFeYmnY8sT"
   },
   "source": [
    "# HW1 AA274A Problem 4\n",
    "\n",
    "In this problem, you will write a trajectory optimization algorithm to generate a feasible trajectory subject to some constraints. Our setup includes the \"ego\" vehicle (meaning the agent we control), a static obstacle, and a goal position to be reached.\n",
    "\n",
    "In this setup, we will not make the assumption of differential flatness and instead solve the problem with a nonlinear optimizer!\n"
   ]
  },
  {
   "cell_type": "markdown",
   "metadata": {
    "id": "Z09yDOn0fSvM"
   },
   "source": [
    "# Problem Setup\n",
    "We will first consider the case in which we are trying to generate a trajectory for a Turtlebot that must avoid an object. The agent has an initial position, a goal position, and a big obstacle in the center of the initial path. Our agent therefore must generate a trajectory that is dynamically feasible, does not collide with the obstacle, and reaches the final goal pose."
   ]
  },
  {
   "cell_type": "code",
   "execution_count": 1,
   "metadata": {
    "id": "8dsWwGaDcwdY"
   },
   "outputs": [],
   "source": [
    "import numpy as np\n",
    "import matplotlib.pyplot as plt\n",
    "from scipy.optimize import minimize, Bounds\n",
    "import typing as T"
   ]
  },
  {
   "cell_type": "code",
   "execution_count": 2,
   "metadata": {
    "id": "jfWNEbKMhCio"
   },
   "outputs": [],
   "source": [
    "from utils import simulate_car_dyn, maybe_makedirs\n",
    "from P2_trajectory_tracking import TrajectoryTracker"
   ]
  },
  {
   "cell_type": "code",
   "execution_count": 3,
   "metadata": {
    "id": "aXBY0tKZY-QT"
   },
   "outputs": [],
   "source": [
    "# Initial conditions and parameters\n",
    "EGO_START_POS, EGO_FINAL_GOAL_POS = (0.0,0.0), (5.0,5.0)\n",
    "EGO_RADIUS, OBS_RADIUS = 0.1, 0.3\n",
    "OBSTACLE_POS = (2.5, 2.5)"
   ]
  },
  {
   "cell_type": "markdown",
   "metadata": {
    "id": "Lb1lyHx8fwKB"
   },
   "source": [
    "# Visualizing the Scene"
   ]
  },
  {
   "cell_type": "code",
   "execution_count": 4,
   "metadata": {
    "id": "3qsiPYMzchxf"
   },
   "outputs": [],
   "source": [
    "def render_scene(traj=None, print_alpha=None):\n",
    "  fig, ax = plt.subplots()\n",
    "  ego_circle_start = plt.Circle(EGO_START_POS, radius=EGO_RADIUS, color='lime')\n",
    "  ego_circle_end   = plt.Circle(EGO_FINAL_GOAL_POS, radius=EGO_RADIUS, color='red')\n",
    "  obs_circle       = plt.Circle(OBSTACLE_POS, radius=OBS_RADIUS, color='blue')\n",
    "  ax.add_patch(obs_circle)\n",
    "  if traj is not None:\n",
    "    for i in range(traj.shape[0]):\n",
    "      x,y,theta = traj[i]\n",
    "      ego_circle_current = plt.Circle((x, y), radius=EGO_RADIUS, color='cyan')\n",
    "      ax.add_patch(ego_circle_current)\n",
    "      ego_arrow_current = plt.arrow(x, y, dx=np.cos(theta)/2, dy=np.sin(theta)/2, head_width=0.1)\n",
    "      ax.add_patch(ego_arrow_current)\n",
    "  ax.add_patch(ego_circle_start)\n",
    "  ax.add_patch(ego_circle_end)\n",
    "  ax.set_xlim((-1.0, 6.0))\n",
    "  ax.set_ylim((-1.0, 6.0))\n",
    "  ax.set_aspect('equal')\n",
    "  if print_alpha is not None:\n",
    "    plt.title(\"Alpha: {:.2f}\".format(print_alpha))\n",
    "  return plt"
   ]
  },
  {
   "cell_type": "code",
   "execution_count": 5,
   "metadata": {
    "colab": {
     "base_uri": "https://localhost:8080/",
     "height": 435
    },
    "executionInfo": {
     "elapsed": 274,
     "status": "ok",
     "timestamp": 1696018252736,
     "user": {
      "displayName": "Keiko Nagami",
      "userId": "10093190229210908038"
     },
     "user_tz": 420
    },
    "id": "sa-nhG64dMlw",
    "outputId": "0c6b3ccf-bc22-4300-cd3a-121b6664a067"
   },
   "outputs": [
    {
     "data": {
      "image/png": "[encoded data removed]",
      "text/plain": [
       "<Figure size 432x288 with 1 Axes>"
      ]
     },
     "metadata": {
      "needs_background": "light"
     },
     "output_type": "display_data"
    }
   ],
   "source": [
    "# VIZUALIZE THE INITIAL SCENE\n",
    "# RED circle is the obstacle\n",
    "# GREEN is ego start position\n",
    "# BLUE is obstacle position\n",
    "plt = render_scene()\n",
    "plt.show()"
   ]
  },
  {
   "cell_type": "markdown",
   "metadata": {
    "id": "N2rPg41Ohu6E"
   },
   "source": [
    "## Code Setup\n",
    "\n",
    "Here we will define some essential values for our problem (such as the initial state, final state, etc.). We have also provided two helper functions that may be useful for you!\n",
    "\n",
    "**TODO:** Fill in code for the initial and final state of the ego agent below. Some hints are provided in the code comments"
   ]
  },
  {
   "cell_type": "code",
   "execution_count": 6,
   "metadata": {
    "id": "pm850gRihuEZ"
   },
   "outputs": [],
   "source": [
    "############################## Code starts here ##############################\n",
    "# TODO: Define the initial and final state as numpy arrays for the ego agent here\n",
    "# HINTS: Our state is a 3 dimensional vector [x, y, heading].\n",
    "s_0 = np.array([0,0,np.pi/2])  # Initial state.\n",
    "s_f = np.array([5,5,np.pi/2])  # Final state.\n",
    "\n",
    "############################## Code ends here ##############################\n",
    "\n",
    "N = 50  # Number of time discretization nodes (0, 1, ... N).\n",
    "s_dim = 3  # State dimension; 3 for (x, y, th).\n",
    "u_dim = 2  # Control dimension; 2 for (V, om).\n",
    "v_max = 0.5  # Maximum linear velocity.\n",
    "om_max = 1.0  # Maximum angular velocity.\n",
    "\n",
    "def pack_decision_variables(t_f: float, s: np.ndarray, u: np.ndarray) -> np.ndarray:\n",
    "    \"\"\"Packs decision variables (final time, states, controls) into a 1D vector.\n",
    "\n",
    "    Args:\n",
    "        t_f: Final time, a scalar.\n",
    "        s: States, an array of shape (N + 1, s_dim).\n",
    "        u: Controls, an array of shape (N, u_dim).\n",
    "\n",
    "    Returns:\n",
    "        An array `z` of shape (1 + (N + 1) * s_dim + N * u_dim,).\n",
    "    \"\"\"\n",
    "    return np.concatenate([[t_f], s.ravel(), u.ravel()])\n",
    "\n",
    "\n",
    "def unpack_decision_variables(z: np.ndarray) -> T.Tuple[float, np.ndarray, np.ndarray]:\n",
    "    \"\"\"Unpacks a 1D vector into decision variables (final time, states, controls).\n",
    "\n",
    "    Args:\n",
    "        z: An array of shape (1 + (N + 1) * s_dim + N * u_dim,).\n",
    "\n",
    "    Returns:\n",
    "        t_f: Final time, a scalar.\n",
    "        s: States, an array of shape (N + 1, s_dim).\n",
    "        u: Controls, an array of shape (N, u_dim).\n",
    "    \"\"\"\n",
    "    t_f = float(z[0])\n",
    "    s = z[1:1 + (N + 1) * s_dim].reshape(N + 1, s_dim)\n",
    "    u = z[-N * u_dim:].reshape(N, u_dim)\n",
    "    return t_f, s, u"
   ]
  },
  {
   "cell_type": "markdown",
   "metadata": {
    "id": "Tnq6CNk7g2A2"
   },
   "source": [
    "## Trajectory Optimization\n",
    "\n",
    "Next, we will define a function to set up and solve the trajectory optimization problem. Consider the following questions:\n",
    "\n",
    "\n",
    "\n",
    "1.   What is the cost for a given trajectory?\n",
    "2.   What are the **constraints** that the trajectory must obey? Constraints here are *equality* constraints.\n",
    "\n",
    "We will use scipy.optimize.minimize to solve this nonlinear optimization problem. You can find some documentation for this function [here](https://docs.scipy.org/doc/scipy/reference/generated/scipy.optimize.minimize.html)\n",
    "\n"
   ]
  },
  {
   "cell_type": "code",
   "execution_count": 7,
   "metadata": {
    "id": "Ku5f2oEudUyJ"
   },
   "outputs": [],
   "source": [
    "def optimize_trajectory(\n",
    "    time_weight: float = 1.0,\n",
    "    verbose: bool = True\n",
    "):\n",
    "    \"\"\"Computes the optimal trajectory as a function of `time_weight`.\n",
    "\n",
    "    Args:\n",
    "        time_weight: \\alpha in the HW writeup.\n",
    "\n",
    "    Returns:\n",
    "        t_f_opt: Final time, a scalar.\n",
    "        s_opt: States, an array of shape (N + 1, s_dim).\n",
    "        u_opt: Controls, an array of shape (N, u_dim).\n",
    "    \"\"\"\n",
    "\n",
    "    def cost(z):\n",
    "        ############################## Code starts here ##############################\n",
    "        # TODO: Define a cost function here\n",
    "        # HINT: you may find `unpack_decision_variables` useful here. z is the packed 1D representation of t,s and u. Return the value of the cost.\n",
    "        t_f, s, u = unpack_decision_variables(z)\n",
    "        cost = 0\n",
    "        tvec = np.linspace(0,t_f,N)\n",
    "        for i in range(N):\n",
    "            cost = cost + (time_weight + u[i,0]**2 + u[i,1]**2)\n",
    "        return cost    \n",
    "        ############################## Code ends here ##############################\n",
    "\n",
    "    # Initialize the trajectory with a straight line\n",
    "    z_guess = pack_decision_variables(\n",
    "        20, s_0 + np.linspace(0, 1, N + 1)[:, np.newaxis] * (s_f - s_0),\n",
    "        np.ones(N * u_dim))\n",
    "\n",
    "    # Minimum and Maximum bounds on states and controls\n",
    "    # This is because we would want to include safety limits\n",
    "    # for omega (steering) and velocity (speed limit)\n",
    "    bounds = Bounds(\n",
    "        pack_decision_variables(\n",
    "            0., -np.inf * np.ones((N + 1, s_dim)),\n",
    "            np.array([0.01, -om_max]) * np.ones((N, u_dim))),\n",
    "        pack_decision_variables(\n",
    "            np.inf, np.inf * np.ones((N + 1, s_dim)),\n",
    "            np.array([v_max, om_max]) * np.ones((N, u_dim)))\n",
    "    )\n",
    "\n",
    "    # Define the equality constraints\n",
    "    def eq_constraints(z):\n",
    "        t_f, s, u = unpack_decision_variables(z)\n",
    "        dt = t_f / N\n",
    "        constraint_list = []\n",
    "        for i in range(N):\n",
    "            V, om = u[i]\n",
    "            x, y, th = s[i]\n",
    "            ############################## Code starts here ##############################\n",
    "            # TODO: Append to `constraint_list` with dynanics constraints\n",
    "            \n",
    "            constraint_list.append(s[i+1]- s[i] - dt*np.array([V*np.cos(th),V*np.sin(th),om]))\n",
    "            ############################## Code ends here ##############################\n",
    "\n",
    "        ############################## Code starts here ##############################\n",
    "        # TODO: Append to `constraint_list` with initial and final state constraints\n",
    "        constraint_list.append(s[0] - np.array([0,0,np.pi/2]))\n",
    "        constraint_list.append(s[N] - np.array([5,5,np.pi/2]))\n",
    "        ############################## Code ends here ##############################\n",
    "        return np.concatenate(constraint_list)\n",
    "\n",
    "    # Define the inequality constraints\n",
    "    def ineq_constraints(z):\n",
    "      t_f, s, u = unpack_decision_variables(z)\n",
    "      dt = t_f / N\n",
    "      x_obs =  2.5                      \n",
    "      y_obs  =  2.5\n",
    "      r_e = 0.1\n",
    "      r_o = 0.3                             \n",
    "      constraint_list = []\n",
    "      for i in range(N):\n",
    "          V, om = u[i]\n",
    "          x, y, th = s[i]\n",
    "          x_obs =  2.5                      \n",
    "          y_obs  =  2.5\n",
    "          r_e = 0.1\n",
    "          r_o = 0.3                        \n",
    "          ############################## Code starts here ##############################\n",
    "          # TODO: Append to `constraint_list` with collision avoidance constraint\n",
    "          constraint_list.append(np.sqrt((x-x_obs)**2 + (y-y_obs)**2)-r_e - r_o)\n",
    "          ############################## Code ends here ################################\n",
    "      return np.array(constraint_list)\n",
    "\n",
    "    result = minimize(cost,\n",
    "                      z_guess,\n",
    "                      bounds=bounds,\n",
    "                      constraints=[{\n",
    "                          'type': 'eq',\n",
    "                          'fun': eq_constraints\n",
    "                      },\n",
    "                      {\n",
    "                          'type': 'ineq',\n",
    "                          'fun': ineq_constraints\n",
    "                      }])\n",
    "    if verbose:\n",
    "        print(result)\n",
    "\n",
    "    return unpack_decision_variables(result.x)"
   ]
  },
  {
   "cell_type": "code",
   "execution_count": 8,
   "metadata": {
    "id": "EfGNzPN8jHST"
   },
   "outputs": [
    {
     "name": "stdout",
     "output_type": "stream",
     "text": [
      "     fun: 50.45242790618806\n",
      "     jac: array([ 0.        ,  0.        ,  0.        ,  0.        ,  0.        ,\n",
      "        0.        ,  0.        ,  0.        ,  0.        ,  0.        ,\n",
      "        0.        ,  0.        ,  0.        ,  0.        ,  0.        ,\n",
      "        0.        ,  0.        ,  0.        ,  0.        ,  0.        ,\n",
      "        0.        ,  0.        ,  0.        ,  0.        ,  0.        ,\n",
      "        0.        ,  0.        ,  0.        ,  0.        ,  0.        ,\n",
      "        0.        ,  0.        ,  0.        ,  0.        ,  0.        ,\n",
      "        0.        ,  0.        ,  0.        ,  0.        ,  0.        ,\n",
      "        0.        ,  0.        ,  0.        ,  0.        ,  0.        ,\n",
      "        0.        ,  0.        ,  0.        ,  0.        ,  0.        ,\n",
      "        0.        ,  0.        ,  0.        ,  0.        ,  0.        ,\n",
      "        0.        ,  0.        ,  0.        ,  0.        ,  0.        ,\n",
      "        0.        ,  0.        ,  0.        ,  0.        ,  0.        ,\n",
      "        0.        ,  0.        ,  0.        ,  0.        ,  0.        ,\n",
      "        0.        ,  0.        ,  0.        ,  0.        ,  0.        ,\n",
      "        0.        ,  0.        ,  0.        ,  0.        ,  0.        ,\n",
      "        0.        ,  0.        ,  0.        ,  0.        ,  0.        ,\n",
      "        0.        ,  0.        ,  0.        ,  0.        ,  0.        ,\n",
      "        0.        ,  0.        ,  0.        ,  0.        ,  0.        ,\n",
      "        0.        ,  0.        ,  0.        ,  0.        ,  0.        ,\n",
      "        0.        ,  0.        ,  0.        ,  0.        ,  0.        ,\n",
      "        0.        ,  0.        ,  0.        ,  0.        ,  0.        ,\n",
      "        0.        ,  0.        ,  0.        ,  0.        ,  0.        ,\n",
      "        0.        ,  0.        ,  0.        ,  0.        ,  0.        ,\n",
      "        0.        ,  0.        ,  0.        ,  0.        ,  0.        ,\n",
      "        0.        ,  0.        ,  0.        ,  0.        ,  0.        ,\n",
      "        0.        ,  0.        ,  0.        ,  0.        ,  0.        ,\n",
      "        0.        ,  0.        ,  0.        ,  0.        ,  0.        ,\n",
      "        0.        ,  0.        ,  0.        ,  0.        ,  0.        ,\n",
      "        0.        ,  0.        ,  0.        ,  0.        ,  0.        ,\n",
      "        0.        ,  0.        ,  0.        ,  0.        ,  0.02000046,\n",
      "        0.10375023,  0.07595253,  0.08683777,  0.13405514,  0.04315186,\n",
      "        0.1630125 ,  0.01617146,  0.17691994, -0.00082874,  0.18696308,\n",
      "       -0.00288105,  0.18055344,  0.00299072,  0.16007423, -0.00029469,\n",
      "        0.1553793 ,  0.00370502,  0.16676712,  0.00597382,  0.159132  ,\n",
      "        0.00903225,  0.16073608,  0.00654316,  0.16862106,  0.00099277,\n",
      "        0.15748405, -0.00142574,  0.16052532, -0.00470352,  0.18039513,\n",
      "        0.00127411,  0.17056847,  0.00470161,  0.1831913 ,  0.00551033,\n",
      "        0.15299129, -0.01136684,  0.1542778 , -0.01176643,  0.14447689,\n",
      "       -0.01385975,  0.16983509, -0.0063076 ,  0.20247841, -0.01604843,\n",
      "        0.25691223, -0.05097198,  0.02000046, -0.11528873,  0.02000046,\n",
      "       -0.17211342,  0.28601933, -0.02784443,  0.28884602, -0.00729847,\n",
      "        0.28483391, -0.00782204,  0.25139141,  0.0075407 ,  0.24748325,\n",
      "        0.00328255,  0.2586422 , -0.0030489 ,  0.28128719, -0.00054169,\n",
      "        0.27117062,  0.00172424,  0.27348328, -0.00422764,  0.26660156,\n",
      "       -0.00790405,  0.25704861,  0.01012325,  0.19138718, -0.01588058,\n",
      "        0.22920609, -0.00728226,  0.16601086,  0.00048828,  0.1821785 ,\n",
      "        0.00374317,  0.20310211,  0.01293945,  0.2050209 ,  0.05343246,\n",
      "        0.08380699,  0.01760769,  0.08599663, -0.00565243,  0.09339523,\n",
      "       -0.00615883,  0.08150387,  0.00272894,  0.07062149,  0.01554632,\n",
      "        0.06312799,  0.03193188,  0.05127144,  0.04981041])\n",
      " message: 'Iteration limit exceeded'\n",
      "    nfev: 25861\n",
      "     nit: 101\n",
      "    njev: 101\n",
      "  status: 9\n",
      " success: False\n",
      "       x: array([ 7.68260509e+02, -8.87558137e-15,  1.04302346e-16,  1.57079633e+00,\n",
      "        9.83546602e-16,  1.53652092e-01,  2.36797823e+00, -4.15054533e-01,\n",
      "        5.61448658e-01,  3.03536081e+00, -1.44059832e+00,  6.71724048e-01,\n",
      "        3.36868548e+00, -2.65995424e+00,  3.90508047e-01,  3.49299696e+00,\n",
      "       -3.93618707e+00, -7.68105876e-02,  3.48651803e+00, -5.28830945e+00,\n",
      "       -5.61909391e-01,  3.46464500e+00, -6.60270758e+00, -1.00149451e+00,\n",
      "        3.48738206e+00, -7.75937391e+00, -1.41736474e+00,  3.48583339e+00,\n",
      "       -8.88228577e+00, -1.82038036e+00,  3.51446411e+00, -1.00748666e+01,\n",
      "       -2.28751948e+00,  3.56090735e+00, -1.11905974e+01, -2.78640662e+00,\n",
      "        3.63028813e+00, -1.22806848e+01, -3.36705449e+00,  3.68038528e+00,\n",
      "       -1.33926878e+01, -4.03243159e+00,  3.68784248e+00, -1.44284865e+01,\n",
      "       -4.66200907e+00,  3.67597309e+00, -1.54915557e+01, -5.29125593e+00,\n",
      "        3.63971579e+00, -1.67091952e+01, -5.95231150e+00,  3.64897897e+00,\n",
      "       -1.78568223e+01, -6.59062001e+00,  3.68607067e+00, -1.90588685e+01,\n",
      "       -7.31771742e+00,  3.72831701e+00, -2.00387059e+01, -7.96897870e+00,\n",
      "        3.64263002e+00, -2.10763173e+01, -8.54053698e+00,  3.55179379e+00,\n",
      "       -2.20949363e+01, -8.98421969e+00,  3.44530271e+00, -2.33397661e+01,\n",
      "       -9.37621856e+00,  3.39468078e+00, -2.48471969e+01, -9.76529764e+00,\n",
      "        3.27072808e+00, -2.68051064e+01, -1.00160746e+01,  2.87589291e+00,\n",
      "       -2.69539691e+01, -9.97489775e+00,  1.99123856e+00, -2.70165101e+01,\n",
      "       -9.83438480e+00,  6.67758889e-01, -2.52887065e+01, -8.47449388e+00,\n",
      "        4.56336884e-01, -2.32943056e+01, -7.49348989e+00,  3.98157936e-01,\n",
      "       -2.12777242e+01, -6.64653604e+00,  3.38831521e-01, -1.94556943e+01,\n",
      "       -6.00372971e+00,  3.96831118e-01, -1.77057246e+01, -5.26838866e+00,\n",
      "        4.21439056e-01, -1.58905239e+01, -4.45472190e+00,  3.97708003e-01,\n",
      "       -1.38956724e+01, -3.61688581e+00,  3.94083069e-01, -1.19720178e+01,\n",
      "       -2.81682346e+00,  4.07653700e-01, -1.00432593e+01, -1.98309144e+00,\n",
      "        3.75358406e-01, -8.13895706e+00, -1.23099425e+00,  3.13661339e-01,\n",
      "       -6.26029105e+00, -6.22125422e-01,  3.91263360e-01, -4.89880203e+00,\n",
      "       -6.03537767e-02,  2.68864724e-01, -3.20115731e+00,  4.05544810e-01,\n",
      "        2.13607924e-01, -1.95471509e+00,  6.75920397e-01,  2.17426001e-01,\n",
      "       -5.89484573e-01,  9.77647181e-01,  2.45957313e-01,  9.27235231e-01,\n",
      "        1.35860028e+00,  3.47074382e-01,  2.40453772e+00,  1.89831444e+00,\n",
      "        7.57024745e-01,  2.87173623e+00,  2.34016554e+00,  8.91269374e-01,\n",
      "        3.28778396e+00,  2.85626558e+00,  8.47990884e-01,  3.76308135e+00,\n",
      "        3.39489607e+00,  8.01204719e-01,  4.19876248e+00,  3.84442848e+00,\n",
      "        8.22638736e-01,  4.56765342e+00,  4.24213267e+00,  9.42321301e-01,\n",
      "        4.85280439e+00,  4.63469376e+00,  1.18767939e+00,  5.00000000e+00,\n",
      "        5.00000000e+00,  1.57079633e+00,  1.00000000e-02,  5.18749703e-02,\n",
      "        3.79762478e-02,  4.34189008e-02,  6.70273877e-02,  2.15757030e-02,\n",
      "        8.15060607e-02,  8.08564927e-03,  8.84596461e-02, -4.14420630e-04,\n",
      "        9.34816075e-02, -1.44073450e-03,  9.02763722e-02,  1.49508425e-03,\n",
      "        8.00369743e-02, -1.47464621e-04,  7.76894958e-02,  1.85235087e-03,\n",
      "        8.33833395e-02,  2.98671782e-03,  7.95658700e-02,  4.51588748e-03,\n",
      "        8.03678837e-02,  3.27126399e-03,  8.43104144e-02,  4.96092256e-04,\n",
      "        7.87419727e-02, -7.12843501e-04,  8.02626220e-02, -2.35189389e-03,\n",
      "        9.01972675e-02,  6.37046676e-04,  8.52841239e-02,  2.35047922e-03,\n",
      "        9.15953961e-02,  2.75493366e-03,  7.64952252e-02, -5.68377278e-03,\n",
      "        7.71387590e-02, -5.88326183e-03,  7.22383620e-02, -6.93017938e-03,\n",
      "        8.49171768e-02, -3.15418269e-03,  1.01239086e-01, -8.02449255e-03,\n",
      "        1.28455894e-01, -2.54860445e-02,  1.00000000e-02, -5.76447173e-02,\n",
      "        1.00000000e-02, -8.60569136e-02,  1.43009352e-01, -1.39222545e-02,\n",
      "        1.44423050e-01, -3.64927271e-03,  1.42416774e-01, -3.91124406e-03,\n",
      "        1.25695263e-01,  3.77030644e-03,  1.23741465e-01,  1.64082066e-03,\n",
      "        1.29320662e-01, -1.52468509e-03,  1.40643615e-01, -2.70861319e-04,\n",
      "        1.35585050e-01,  8.62190980e-04,  1.36741564e-01, -2.11390825e-03,\n",
      "        1.33300824e-01, -3.95226585e-03,  1.28524038e-01,  5.06163733e-03,\n",
      "        9.56932767e-02, -7.94034161e-03,  1.14603195e-01, -3.64126663e-03,\n",
      "        8.30052069e-02,  2.43955351e-04,  9.10893249e-02,  1.87123884e-03,\n",
      "        1.01550847e-01,  6.46935508e-03,  1.02510555e-01,  2.67159389e-02,\n",
      "        4.19034732e-02,  8.80376004e-03,  4.29984338e-02, -2.82627736e-03,\n",
      "        4.66975069e-02, -3.07965276e-03,  4.07518500e-02,  1.36443062e-03,\n",
      "        3.53108136e-02,  7.77320065e-03,  3.15640800e-02,  1.59659347e-02,\n",
      "        2.56356744e-02,  2.49051394e-02])\n"
     ]
    }
   ],
   "source": [
    "# Call the trajectory optimizer\n",
    "t, s, u = optimize_trajectory()"
   ]
  },
  {
   "cell_type": "code",
   "execution_count": 9,
   "metadata": {
    "id": "WX-R-89YXVbK"
   },
   "outputs": [
    {
     "data": {
      "image/png": "[encoded data removed]",
      "text/plain": [
       "<Figure size 432x288 with 1 Axes>"
      ]
     },
     "metadata": {
      "needs_background": "light"
     },
     "output_type": "display_data"
    }
   ],
   "source": [
    "# Plot optimized trajectory\n",
    "plt = render_scene(s)\n",
    "plt.show()"
   ]
  },
  {
   "cell_type": "markdown",
   "metadata": {
    "id": "_JNEkklO1yTS"
   },
   "source": [
    "Let's write a small wrapper function which gives us a plot of the trajectory for a given value of alpha"
   ]
  },
  {
   "cell_type": "code",
   "execution_count": 10,
   "metadata": {
    "id": "ePmxqd0V16Gq"
   },
   "outputs": [],
   "source": [
    "def show_traj_plan(alpha=1.0):\n",
    "  t, s, u = optimize_trajectory(time_weight=alpha)\n",
    "  plt = render_scene(s, print_alpha=alpha)\n",
    "  plt.show()"
   ]
  },
  {
   "cell_type": "markdown",
   "metadata": {
    "id": "nvJ5yJ-V2IbY"
   },
   "source": [
    "## Varying alpha\n",
    "Let us now experiment with different values of alpha to see how the output changes. We have included three examples below, but feel free to experiment with other values as well!"
   ]
  },
  {
   "cell_type": "code",
   "execution_count": 11,
   "metadata": {
    "id": "zycxbTK72hRL"
   },
   "outputs": [
    {
     "name": "stdout",
     "output_type": "stream",
     "text": [
      "     fun: 50.45242790618806\n",
      "     jac: array([ 0.        ,  0.        ,  0.        ,  0.        ,  0.        ,\n",
      "        0.        ,  0.        ,  0.        ,  0.        ,  0.        ,\n",
      "        0.        ,  0.        ,  0.        ,  0.        ,  0.        ,\n",
      "        0.        ,  0.        ,  0.        ,  0.        ,  0.        ,\n",
      "        0.        ,  0.        ,  0.        ,  0.        ,  0.        ,\n",
      "        0.        ,  0.        ,  0.        ,  0.        ,  0.        ,\n",
      "        0.        ,  0.        ,  0.        ,  0.        ,  0.        ,\n",
      "        0.        ,  0.        ,  0.        ,  0.        ,  0.        ,\n",
      "        0.        ,  0.        ,  0.        ,  0.        ,  0.        ,\n",
      "        0.        ,  0.        ,  0.        ,  0.        ,  0.        ,\n",
      "        0.        ,  0.        ,  0.        ,  0.        ,  0.        ,\n",
      "        0.        ,  0.        ,  0.        ,  0.        ,  0.        ,\n",
      "        0.        ,  0.        ,  0.        ,  0.        ,  0.        ,\n",
      "        0.        ,  0.        ,  0.        ,  0.        ,  0.        ,\n",
      "        0.        ,  0.        ,  0.        ,  0.        ,  0.        ,\n",
      "        0.        ,  0.        ,  0.        ,  0.        ,  0.        ,\n",
      "        0.        ,  0.        ,  0.        ,  0.        ,  0.        ,\n",
      "        0.        ,  0.        ,  0.        ,  0.        ,  0.        ,\n",
      "        0.        ,  0.        ,  0.        ,  0.        ,  0.        ,\n",
      "        0.        ,  0.        ,  0.        ,  0.        ,  0.        ,\n",
      "        0.        ,  0.        ,  0.        ,  0.        ,  0.        ,\n",
      "        0.        ,  0.        ,  0.        ,  0.        ,  0.        ,\n",
      "        0.        ,  0.        ,  0.        ,  0.        ,  0.        ,\n",
      "        0.        ,  0.        ,  0.        ,  0.        ,  0.        ,\n",
      "        0.        ,  0.        ,  0.        ,  0.        ,  0.        ,\n",
      "        0.        ,  0.        ,  0.        ,  0.        ,  0.        ,\n",
      "        0.        ,  0.        ,  0.        ,  0.        ,  0.        ,\n",
      "        0.        ,  0.        ,  0.        ,  0.        ,  0.        ,\n",
      "        0.        ,  0.        ,  0.        ,  0.        ,  0.        ,\n",
      "        0.        ,  0.        ,  0.        ,  0.        ,  0.        ,\n",
      "        0.        ,  0.        ,  0.        ,  0.        ,  0.02000046,\n",
      "        0.10375023,  0.07595253,  0.08683777,  0.13405514,  0.04315186,\n",
      "        0.1630125 ,  0.01617146,  0.17691994, -0.00082874,  0.18696308,\n",
      "       -0.00288105,  0.18055344,  0.00299072,  0.16007423, -0.00029469,\n",
      "        0.1553793 ,  0.00370502,  0.16676712,  0.00597382,  0.159132  ,\n",
      "        0.00903225,  0.16073608,  0.00654316,  0.16862106,  0.00099277,\n",
      "        0.15748405, -0.00142574,  0.16052532, -0.00470352,  0.18039513,\n",
      "        0.00127411,  0.17056847,  0.00470161,  0.1831913 ,  0.00551033,\n",
      "        0.15299129, -0.01136684,  0.1542778 , -0.01176643,  0.14447689,\n",
      "       -0.01385975,  0.16983509, -0.0063076 ,  0.20247841, -0.01604843,\n",
      "        0.25691223, -0.05097198,  0.02000046, -0.11528873,  0.02000046,\n",
      "       -0.17211342,  0.28601933, -0.02784443,  0.28884602, -0.00729847,\n",
      "        0.28483391, -0.00782204,  0.25139141,  0.0075407 ,  0.24748325,\n",
      "        0.00328255,  0.2586422 , -0.0030489 ,  0.28128719, -0.00054169,\n",
      "        0.27117062,  0.00172424,  0.27348328, -0.00422764,  0.26660156,\n",
      "       -0.00790405,  0.25704861,  0.01012325,  0.19138718, -0.01588058,\n",
      "        0.22920609, -0.00728226,  0.16601086,  0.00048828,  0.1821785 ,\n",
      "        0.00374317,  0.20310211,  0.01293945,  0.2050209 ,  0.05343246,\n",
      "        0.08380699,  0.01760769,  0.08599663, -0.00565243,  0.09339523,\n",
      "       -0.00615883,  0.08150387,  0.00272894,  0.07062149,  0.01554632,\n",
      "        0.06312799,  0.03193188,  0.05127144,  0.04981041])\n",
      " message: 'Iteration limit exceeded'\n",
      "    nfev: 25861\n",
      "     nit: 101\n",
      "    njev: 101\n",
      "  status: 9\n",
      " success: False\n",
      "       x: array([ 7.68260509e+02, -8.87558137e-15,  1.04302346e-16,  1.57079633e+00,\n",
      "        9.83546602e-16,  1.53652092e-01,  2.36797823e+00, -4.15054533e-01,\n",
      "        5.61448658e-01,  3.03536081e+00, -1.44059832e+00,  6.71724048e-01,\n",
      "        3.36868548e+00, -2.65995424e+00,  3.90508047e-01,  3.49299696e+00,\n",
      "       -3.93618707e+00, -7.68105876e-02,  3.48651803e+00, -5.28830945e+00,\n",
      "       -5.61909391e-01,  3.46464500e+00, -6.60270758e+00, -1.00149451e+00,\n",
      "        3.48738206e+00, -7.75937391e+00, -1.41736474e+00,  3.48583339e+00,\n",
      "       -8.88228577e+00, -1.82038036e+00,  3.51446411e+00, -1.00748666e+01,\n",
      "       -2.28751948e+00,  3.56090735e+00, -1.11905974e+01, -2.78640662e+00,\n",
      "        3.63028813e+00, -1.22806848e+01, -3.36705449e+00,  3.68038528e+00,\n",
      "       -1.33926878e+01, -4.03243159e+00,  3.68784248e+00, -1.44284865e+01,\n",
      "       -4.66200907e+00,  3.67597309e+00, -1.54915557e+01, -5.29125593e+00,\n",
      "        3.63971579e+00, -1.67091952e+01, -5.95231150e+00,  3.64897897e+00,\n",
      "       -1.78568223e+01, -6.59062001e+00,  3.68607067e+00, -1.90588685e+01,\n",
      "       -7.31771742e+00,  3.72831701e+00, -2.00387059e+01, -7.96897870e+00,\n",
      "        3.64263002e+00, -2.10763173e+01, -8.54053698e+00,  3.55179379e+00,\n",
      "       -2.20949363e+01, -8.98421969e+00,  3.44530271e+00, -2.33397661e+01,\n",
      "       -9.37621856e+00,  3.39468078e+00, -2.48471969e+01, -9.76529764e+00,\n",
      "        3.27072808e+00, -2.68051064e+01, -1.00160746e+01,  2.87589291e+00,\n",
      "       -2.69539691e+01, -9.97489775e+00,  1.99123856e+00, -2.70165101e+01,\n",
      "       -9.83438480e+00,  6.67758889e-01, -2.52887065e+01, -8.47449388e+00,\n",
      "        4.56336884e-01, -2.32943056e+01, -7.49348989e+00,  3.98157936e-01,\n",
      "       -2.12777242e+01, -6.64653604e+00,  3.38831521e-01, -1.94556943e+01,\n",
      "       -6.00372971e+00,  3.96831118e-01, -1.77057246e+01, -5.26838866e+00,\n",
      "        4.21439056e-01, -1.58905239e+01, -4.45472190e+00,  3.97708003e-01,\n",
      "       -1.38956724e+01, -3.61688581e+00,  3.94083069e-01, -1.19720178e+01,\n",
      "       -2.81682346e+00,  4.07653700e-01, -1.00432593e+01, -1.98309144e+00,\n",
      "        3.75358406e-01, -8.13895706e+00, -1.23099425e+00,  3.13661339e-01,\n",
      "       -6.26029105e+00, -6.22125422e-01,  3.91263360e-01, -4.89880203e+00,\n",
      "       -6.03537767e-02,  2.68864724e-01, -3.20115731e+00,  4.05544810e-01,\n",
      "        2.13607924e-01, -1.95471509e+00,  6.75920397e-01,  2.17426001e-01,\n",
      "       -5.89484573e-01,  9.77647181e-01,  2.45957313e-01,  9.27235231e-01,\n",
      "        1.35860028e+00,  3.47074382e-01,  2.40453772e+00,  1.89831444e+00,\n",
      "        7.57024745e-01,  2.87173623e+00,  2.34016554e+00,  8.91269374e-01,\n",
      "        3.28778396e+00,  2.85626558e+00,  8.47990884e-01,  3.76308135e+00,\n",
      "        3.39489607e+00,  8.01204719e-01,  4.19876248e+00,  3.84442848e+00,\n",
      "        8.22638736e-01,  4.56765342e+00,  4.24213267e+00,  9.42321301e-01,\n",
      "        4.85280439e+00,  4.63469376e+00,  1.18767939e+00,  5.00000000e+00,\n",
      "        5.00000000e+00,  1.57079633e+00,  1.00000000e-02,  5.18749703e-02,\n",
      "        3.79762478e-02,  4.34189008e-02,  6.70273877e-02,  2.15757030e-02,\n",
      "        8.15060607e-02,  8.08564927e-03,  8.84596461e-02, -4.14420630e-04,\n",
      "        9.34816075e-02, -1.44073450e-03,  9.02763722e-02,  1.49508425e-03,\n",
      "        8.00369743e-02, -1.47464621e-04,  7.76894958e-02,  1.85235087e-03,\n",
      "        8.33833395e-02,  2.98671782e-03,  7.95658700e-02,  4.51588748e-03,\n",
      "        8.03678837e-02,  3.27126399e-03,  8.43104144e-02,  4.96092256e-04,\n",
      "        7.87419727e-02, -7.12843501e-04,  8.02626220e-02, -2.35189389e-03,\n",
      "        9.01972675e-02,  6.37046676e-04,  8.52841239e-02,  2.35047922e-03,\n",
      "        9.15953961e-02,  2.75493366e-03,  7.64952252e-02, -5.68377278e-03,\n",
      "        7.71387590e-02, -5.88326183e-03,  7.22383620e-02, -6.93017938e-03,\n",
      "        8.49171768e-02, -3.15418269e-03,  1.01239086e-01, -8.02449255e-03,\n",
      "        1.28455894e-01, -2.54860445e-02,  1.00000000e-02, -5.76447173e-02,\n",
      "        1.00000000e-02, -8.60569136e-02,  1.43009352e-01, -1.39222545e-02,\n",
      "        1.44423050e-01, -3.64927271e-03,  1.42416774e-01, -3.91124406e-03,\n",
      "        1.25695263e-01,  3.77030644e-03,  1.23741465e-01,  1.64082066e-03,\n",
      "        1.29320662e-01, -1.52468509e-03,  1.40643615e-01, -2.70861319e-04,\n",
      "        1.35585050e-01,  8.62190980e-04,  1.36741564e-01, -2.11390825e-03,\n",
      "        1.33300824e-01, -3.95226585e-03,  1.28524038e-01,  5.06163733e-03,\n",
      "        9.56932767e-02, -7.94034161e-03,  1.14603195e-01, -3.64126663e-03,\n",
      "        8.30052069e-02,  2.43955351e-04,  9.10893249e-02,  1.87123884e-03,\n",
      "        1.01550847e-01,  6.46935508e-03,  1.02510555e-01,  2.67159389e-02,\n",
      "        4.19034732e-02,  8.80376004e-03,  4.29984338e-02, -2.82627736e-03,\n",
      "        4.66975069e-02, -3.07965276e-03,  4.07518500e-02,  1.36443062e-03,\n",
      "        3.53108136e-02,  7.77320065e-03,  3.15640800e-02,  1.59659347e-02,\n",
      "        2.56356744e-02,  2.49051394e-02])\n"
     ]
    },
    {
     "data": {
      "image/png": "[encoded data removed]",
      "text/plain": [
       "<Figure size 432x288 with 1 Axes>"
      ]
     },
     "metadata": {
      "needs_background": "light"
     },
     "output_type": "display_data"
    }
   ],
   "source": [
    "show_traj_plan(alpha=1.0)"
   ]
  },
  {
   "cell_type": "code",
   "execution_count": 12,
   "metadata": {
    "id": "De2z_OQB3SRr"
   },
   "outputs": [
    {
     "name": "stdout",
     "output_type": "stream",
     "text": [
      "     fun: 1000.4528303043109\n",
      "     jac: array([ 0.00000000e+00,  0.00000000e+00,  0.00000000e+00,  0.00000000e+00,\n",
      "        0.00000000e+00,  0.00000000e+00,  0.00000000e+00,  0.00000000e+00,\n",
      "        0.00000000e+00,  0.00000000e+00,  0.00000000e+00,  0.00000000e+00,\n",
      "        0.00000000e+00,  0.00000000e+00,  0.00000000e+00,  0.00000000e+00,\n",
      "        0.00000000e+00,  0.00000000e+00,  0.00000000e+00,  0.00000000e+00,\n",
      "        0.00000000e+00,  0.00000000e+00,  0.00000000e+00,  0.00000000e+00,\n",
      "        0.00000000e+00,  0.00000000e+00,  0.00000000e+00,  0.00000000e+00,\n",
      "        0.00000000e+00,  0.00000000e+00,  0.00000000e+00,  0.00000000e+00,\n",
      "        0.00000000e+00,  0.00000000e+00,  0.00000000e+00,  0.00000000e+00,\n",
      "        0.00000000e+00,  0.00000000e+00,  0.00000000e+00,  0.00000000e+00,\n",
      "        0.00000000e+00,  0.00000000e+00,  0.00000000e+00,  0.00000000e+00,\n",
      "        0.00000000e+00,  0.00000000e+00,  0.00000000e+00,  0.00000000e+00,\n",
      "        0.00000000e+00,  0.00000000e+00,  0.00000000e+00,  0.00000000e+00,\n",
      "        0.00000000e+00,  0.00000000e+00,  0.00000000e+00,  0.00000000e+00,\n",
      "        0.00000000e+00,  0.00000000e+00,  0.00000000e+00,  0.00000000e+00,\n",
      "        0.00000000e+00,  0.00000000e+00,  0.00000000e+00,  0.00000000e+00,\n",
      "        0.00000000e+00,  0.00000000e+00,  0.00000000e+00,  0.00000000e+00,\n",
      "        0.00000000e+00,  0.00000000e+00,  0.00000000e+00,  0.00000000e+00,\n",
      "        0.00000000e+00,  0.00000000e+00,  0.00000000e+00,  0.00000000e+00,\n",
      "        0.00000000e+00,  0.00000000e+00,  0.00000000e+00,  0.00000000e+00,\n",
      "        0.00000000e+00,  0.00000000e+00,  0.00000000e+00,  0.00000000e+00,\n",
      "        0.00000000e+00,  0.00000000e+00,  0.00000000e+00,  0.00000000e+00,\n",
      "        0.00000000e+00,  0.00000000e+00,  0.00000000e+00,  0.00000000e+00,\n",
      "        0.00000000e+00,  0.00000000e+00,  0.00000000e+00,  0.00000000e+00,\n",
      "        0.00000000e+00,  0.00000000e+00,  0.00000000e+00,  0.00000000e+00,\n",
      "        0.00000000e+00,  0.00000000e+00,  0.00000000e+00,  0.00000000e+00,\n",
      "        0.00000000e+00,  0.00000000e+00,  0.00000000e+00,  0.00000000e+00,\n",
      "        0.00000000e+00,  0.00000000e+00,  0.00000000e+00,  0.00000000e+00,\n",
      "        0.00000000e+00,  0.00000000e+00,  0.00000000e+00,  0.00000000e+00,\n",
      "        0.00000000e+00,  0.00000000e+00,  0.00000000e+00,  0.00000000e+00,\n",
      "        0.00000000e+00,  0.00000000e+00,  0.00000000e+00,  0.00000000e+00,\n",
      "        0.00000000e+00,  0.00000000e+00,  0.00000000e+00,  0.00000000e+00,\n",
      "        0.00000000e+00,  0.00000000e+00,  0.00000000e+00,  0.00000000e+00,\n",
      "        0.00000000e+00,  0.00000000e+00,  0.00000000e+00,  0.00000000e+00,\n",
      "        0.00000000e+00,  0.00000000e+00,  0.00000000e+00,  0.00000000e+00,\n",
      "        0.00000000e+00,  0.00000000e+00,  0.00000000e+00,  0.00000000e+00,\n",
      "        0.00000000e+00,  0.00000000e+00,  0.00000000e+00,  0.00000000e+00,\n",
      "        0.00000000e+00,  0.00000000e+00,  0.00000000e+00,  0.00000000e+00,\n",
      "        0.00000000e+00,  0.00000000e+00,  2.00042725e-02,  1.13113403e-01,\n",
      "        7.72399902e-02,  9.28955078e-02,  1.31912231e-01,  3.68804932e-02,\n",
      "        1.75460815e-01,  1.73492432e-02,  1.71035767e-01,  7.78198242e-04,\n",
      "        1.63269043e-01, -3.58581543e-03,  1.72882080e-01,  1.96838379e-03,\n",
      "        1.80633545e-01,  2.60925293e-03,  1.67236328e-01,  5.82885742e-03,\n",
      "        1.40609741e-01,  4.56237793e-03,  1.63192749e-01,  5.50842285e-03,\n",
      "        1.75231934e-01,  7.15637207e-03,  1.62475586e-01,  4.60815430e-03,\n",
      "        1.57226562e-01, -1.55639648e-03,  1.58920288e-01, -5.73730469e-03,\n",
      "        1.74606323e-01,  4.36401367e-03,  1.77871704e-01,  2.01416016e-03,\n",
      "        1.77352905e-01,  5.06591797e-03,  1.51641846e-01, -1.30767822e-02,\n",
      "        1.60018921e-01, -1.59454346e-02,  1.63696289e-01, -1.71813965e-02,\n",
      "        1.56997681e-01, -3.96728516e-04,  1.76544189e-01, -1.38397217e-02,\n",
      "        2.49694824e-01, -4.33044434e-02,  2.00042725e-02, -1.28570557e-01,\n",
      "        2.00042725e-02, -1.74057007e-01,  2.79418945e-01, -4.65545654e-02,\n",
      "        3.02581787e-01, -7.62939453e-05,  2.81936646e-01, -6.92749023e-03,\n",
      "        2.52731323e-01,  5.82885742e-03,  2.51510620e-01,  3.54003906e-03,\n",
      "        2.55859375e-01, -4.02832031e-03,  2.89718628e-01, -6.95800781e-03,\n",
      "        2.97882080e-01,  3.15093994e-03,  2.62916565e-01,  1.97601318e-03,\n",
      "        2.34840393e-01,  1.13220215e-02,  2.20733643e-01, -3.15170288e-02,\n",
      "        2.67623901e-01,  4.79888916e-03,  1.89880371e-01,  1.86920166e-03,\n",
      "        1.78283691e-01,  8.92639160e-03,  1.62620544e-01, -1.19094849e-02,\n",
      "        2.13035583e-01,  9.35363770e-03,  2.08435059e-01,  4.85839844e-02,\n",
      "        9.88845825e-02,  2.87475586e-02,  7.83538818e-02, -3.74603271e-03,\n",
      "        8.70208740e-02, -8.43811035e-03,  7.89184570e-02,  1.01470947e-03,\n",
      "        7.14569092e-02,  1.50070190e-02,  6.55364990e-02,  3.63616943e-02,\n",
      "        5.88150024e-02,  5.23834229e-02])\n",
      " message: 'Iteration limit exceeded'\n",
      "    nfev: 25861\n",
      "     nit: 101\n",
      "    njev: 101\n",
      "  status: 9\n",
      " success: False\n",
      "       x: array([ 7.31852275e+02, -4.24430638e-16, -3.70166024e-16,  1.57079633e+00,\n",
      "        6.75702047e-16,  1.46370446e-01,  2.39794415e+00, -4.11583090e-01,\n",
      "        5.30376455e-01,  3.07875912e+00, -1.37567716e+00,  5.92883694e-01,\n",
      "        3.35088251e+00, -2.63171972e+00,  3.26013698e-01,  3.47811907e+00,\n",
      "       -3.81407225e+00, -8.77330469e-02,  3.48342588e+00, -4.94068645e+00,\n",
      "       -4.88521966e-01,  3.45726407e+00, -6.14419252e+00, -8.81584509e-01,\n",
      "        3.47135939e+00, -7.39423863e+00, -1.30894648e+00,  3.48989368e+00,\n",
      "       -8.54506994e+00, -1.72585648e+00,  3.53236591e+00, -9.49753929e+00,\n",
      "       -2.11766886e+00,  3.56634203e+00, -1.05853092e+01, -2.60916179e+00,\n",
      "        3.60740139e+00, -1.17308914e+01, -3.18564221e+00,  3.65986283e+00,\n",
      "       -1.27630815e+01, -3.77506690e+00,  3.69314182e+00, -1.37424160e+01,\n",
      "       -4.37768322e+00,  3.68106238e+00, -1.47403330e+01, -4.97405803e+00,\n",
      "        3.63906634e+00, -1.58628280e+01, -5.58228036e+00,  3.67126861e+00,\n",
      "       -1.69864187e+01, -6.23968053e+00,  3.68677191e+00, -1.80953441e+01,\n",
      "       -6.91310041e+00,  3.72395106e+00, -1.90223612e+01, -7.52411601e+00,\n",
      "        3.62889685e+00, -2.00557559e+01, -8.07450350e+00,  3.51193990e+00,\n",
      "       -2.11715205e+01, -8.51025380e+00,  3.38603452e+00, -2.22850690e+01,\n",
      "       -8.79088749e+00,  3.38181793e+00, -2.35408083e+01, -9.09859041e+00,\n",
      "        3.27863797e+00, -2.53563382e+01, -9.35010374e+00,  2.95778826e+00,\n",
      "       -2.55012248e+01, -9.32235165e+00,  2.01772550e+00, -2.55642709e+01,\n",
      "       -9.18985004e+00,  7.43922807e-01, -2.40572548e+01, -7.80441128e+00,\n",
      "        4.04596262e-01, -2.20222457e+01, -6.93080646e+00,  4.02759923e-01,\n",
      "       -2.01252075e+01, -6.12394103e+00,  3.52266467e-01, -1.83884909e+01,\n",
      "       -5.48563295e+00,  3.94740840e-01, -1.66890037e+01, -4.77806556e+00,\n",
      "        4.20656476e-01, -1.49777603e+01, -4.01268616e+00,  3.91336047e-01,\n",
      "       -1.30170706e+01, -3.20378753e+00,  3.40690814e-01, -1.09637699e+01,\n",
      "       -2.47486768e+00,  3.64164880e-01, -9.16655001e+00, -1.78817056e+00,\n",
      "        3.78716254e-01, -7.56860029e+00, -1.15155473e+00,  4.59934594e-01,\n",
      "       -6.11784577e+00, -4.32260361e-01,  2.31031968e-01, -4.21534446e+00,\n",
      "        2.01003991e-02,  2.63672632e-01, -2.86979977e+00,  3.84658885e-01,\n",
      "        2.78047991e-01, -1.61559242e+00,  7.41283439e-01,  3.43900080e-01,\n",
      "       -4.96294607e-01,  1.14159933e+00,  2.56737594e-01,  1.01247147e+00,\n",
      "        1.53760311e+00,  3.26302460e-01,  2.46142999e+00,  2.02714274e+00,\n",
      "        6.84226792e-01,  3.01287417e+00,  2.49019129e+00,  8.92933241e-01,\n",
      "        3.37395972e+00,  2.93802842e+00,  8.64822140e-01,  3.78754695e+00,\n",
      "        3.42315861e+00,  8.03297484e-01,  4.18879767e+00,  3.83918346e+00,\n",
      "        8.11104757e-01,  4.54935345e+00,  4.21888276e+00,  9.21254317e-01,\n",
      "        4.83957828e+00,  4.60136170e+00,  1.18731144e+00,  5.00000000e+00,\n",
      "        5.00000000e+00,  1.57079633e+00,  1.00000000e-02,  5.65500111e-02,\n",
      "        3.86128916e-02,  4.64467541e-02,  6.59553035e-02,  1.84405151e-02,\n",
      "        8.77279304e-02,  8.67104457e-03,  8.55128355e-02,  3.84334338e-04,\n",
      "        8.16298931e-02, -1.79291786e-03,  8.64409961e-02,  9.79345429e-04,\n",
      "        9.03137415e-02,  1.29925842e-03,  8.36134986e-02,  2.90918452e-03,\n",
      "        7.03005329e-02,  2.27457762e-03,  8.15901134e-02,  2.75179406e-03,\n",
      "        8.76129927e-02,  3.57472479e-03,  8.12324792e-02,  2.29994061e-03,\n",
      "        7.86097102e-02, -7.77793706e-04,  7.94551803e-02, -2.86897499e-03,\n",
      "        8.73027761e-02,  2.17922103e-03,  8.89327856e-02,  1.00611693e-03,\n",
      "        8.86765241e-02,  2.52669823e-03,  7.58142281e-02, -6.54082068e-03,\n",
      "        8.00055782e-02, -7.97755429e-03,  8.18450492e-02, -8.59185813e-03,\n",
      "        7.84982046e-02, -2.01359548e-04,  8.82714395e-02, -6.91720364e-03,\n",
      "        1.24849153e-01, -2.16565653e-02,  1.00000000e-02, -6.42849624e-02,\n",
      "        1.00000000e-02, -8.70251546e-02,  1.39712751e-01, -2.32777150e-02,\n",
      "        1.51288671e-01, -4.02237133e-05,  1.40963222e-01, -3.46592887e-03,\n",
      "        1.26361419e-01,  2.91006852e-03,  1.25751957e-01,  1.77362427e-03,\n",
      "        1.27925500e-01, -2.01972836e-03,  1.44854897e-01, -3.48145944e-03,\n",
      "        1.48937994e-01,  1.57456380e-03,  1.31457333e-01,  9.88960965e-04,\n",
      "        1.17418837e-01,  5.65963820e-03,  1.10369337e-01, -1.57568075e-02,\n",
      "        1.33810275e-01,  2.39801155e-03,  9.49404155e-02,  9.31716822e-04,\n",
      "        8.91388226e-02,  4.46029283e-03,  8.13097548e-02, -5.95522024e-03,\n",
      "        1.06517652e-01,  4.67794453e-03,  1.04220554e-01,  2.42930139e-02,\n",
      "        4.94404672e-02,  1.43742599e-02,  3.91800074e-02, -1.87073338e-03,\n",
      "        4.35102884e-02, -4.21840187e-03,  3.94590204e-02,  5.08347088e-04,\n",
      "        3.57262477e-02,  7.50299054e-03,  3.27701871e-02,  1.81828461e-02,\n",
      "        2.94074858e-02,  2.61915934e-02])\n"
     ]
    },
    {
     "data": {
      "image/png": "[encoded data removed]",
      "text/plain": [
       "<Figure size 432x288 with 1 Axes>"
      ]
     },
     "metadata": {
      "needs_background": "light"
     },
     "output_type": "display_data"
    }
   ],
   "source": [
    "show_traj_plan(alpha=20.0)"
   ]
  },
  {
   "cell_type": "markdown",
   "metadata": {
    "id": "9OIZXrnPF_Ef"
   },
   "source": [
    "## Trajectory Tracking"
   ]
  },
  {
   "cell_type": "code",
   "execution_count": 13,
   "metadata": {
    "id": "YivSBM_J2xiY"
   },
   "outputs": [],
   "source": [
    "# Finite difference for derivatives\n",
    "N = s.shape[0] - 1\n",
    "traj_t = np.linspace(0,t,N+1)\n",
    "dt = t / N\n",
    "\n",
    "traj_v = np.zeros((N+1, 2))\n",
    "traj_a = np.zeros((N+1, 2))\n",
    "\n",
    "for i in range(N):\n",
    "  traj_v[i+1,:] = (s[i+1, 0:2] - s[i, 0:2]) / dt\n",
    "\n",
    "for i in range(N):\n",
    "  traj_a[i+1,:] = (traj_v[i+1, 0:2] - traj_v[i, 0:2]) / dt\n",
    "\n",
    "traj = np.column_stack((s, traj_v, traj_a))"
   ]
  },
  {
   "cell_type": "code",
   "execution_count": 14,
   "metadata": {
    "id": "QRK_TlndGWz3"
   },
   "outputs": [],
   "source": [
    "# Simulate noisy open-loop car dynamics\n",
    "noise_scale = np.sqrt(0.2)\n",
    "states_ol, ctrl_ol = simulate_car_dyn(s_0[0], s_0[1], s_0[2], traj_t, actions=u, noise_scale=noise_scale)"
   ]
  },
  {
   "cell_type": "code",
   "execution_count": 15,
   "metadata": {
    "id": "f_hg7tdTGY_y"
   },
   "outputs": [],
   "source": [
    "# Define tracking controller\n",
    "kpx = 2\n",
    "kpy = 2\n",
    "kdx = 2\n",
    "kdy = 2\n",
    "V_max = 0.75\n",
    "om_max = 1.0\n",
    "controller = TrajectoryTracker(kpx=kpx, kpy=kpy, kdx=kdx, kdy=kdy, V_max=V_max, om_max=om_max)\n",
    "controller.load_traj(traj_t, traj)"
   ]
  },
  {
   "cell_type": "code",
   "execution_count": 16,
   "metadata": {
    "id": "AFysTyWmGbzK"
   },
   "outputs": [],
   "source": [
    "# Apply tracking controller\n",
    "tf_actual = traj_t[-1]\n",
    "times_cl = np.arange(0, tf_actual, dt)\n",
    "states_cl, ctrl_cl = simulate_car_dyn(s_0[0], s_0[1], s_0[2], times_cl, controller=controller, noise_scale=noise_scale)"
   ]
  },
  {
   "cell_type": "code",
   "execution_count": 17,
   "metadata": {
    "id": "HajIyhYD3Uq2"
   },
   "outputs": [
    {
     "data": {
      "image/png": "[encoded data removed]",
      "text/plain": [
       "<Figure size 720x360 with 3 Axes>"
      ]
     },
     "metadata": {
      "needs_background": "light"
     },
     "output_type": "display_data"
    }
   ],
   "source": [
    "# Plots trajectories\n",
    "plt.figure(figsize=[10,5])\n",
    "plt.subplot(2,2,1)\n",
    "plt.plot(times_cl, states_cl)\n",
    "plt.plot(traj_t, traj[:,0], linestyle=':', color='C0', alpha=0.7)\n",
    "plt.plot(traj_t, traj[:,1], linestyle=':', color='C1', alpha=0.7)\n",
    "plt.plot(traj_t, traj[:,2], linestyle=':', color='C2', alpha=0.7)\n",
    "plt.grid(True)\n",
    "plt.xlabel('t')\n",
    "plt.legend(labels=[\"x\",\"y\",\"th\",\"Nominal\"])\n",
    "plt.subplot(2,2,3)\n",
    "plt.plot(times_cl[:-1], ctrl_cl)\n",
    "plt.plot(traj_t[:-1], u[:,0], color='C0', linestyle=':', alpha=0.7)\n",
    "plt.plot(traj_t[:-1], u[:,1], color='C1', linestyle=':', alpha=0.7)\n",
    "plt.grid(True)\n",
    "plt.xlabel('t')\n",
    "plt.legend(labels=[\"V\",\"om\", \"Nominal\"])\n",
    "plt.subplot(1,2,2)\n",
    "plt.plot(traj[:,0], traj[:,1], color=\"k\", linestyle=\":\", alpha=0.7)\n",
    "plt.plot(states_ol[:,0], states_ol[:,1], alpha=0.7)\n",
    "plt.plot(states_cl[:,0], states_cl[:,1])\n",
    "plt.legend(labels=[\"Nominal\", \"Open Loop\", \"Closed Loop\"])\n",
    "plt.xlabel('x')\n",
    "plt.ylabel('y')\n",
    "plt.grid(True)\n",
    "plt.tight_layout()\n",
    "plt.savefig(\"plots/trajopt_closedloop.pdf\")\n",
    "plt.show()"
   ]
  }
 ],
 "metadata": {
  "colab": {
   "provenance": []
  },
  "kernelspec": {
   "display_name": "Python 3",
   "language": "python",
   "name": "python3"
  },
  "language_info": {
   "codemirror_mode": {
    "name": "ipython",
    "version": 3
   },
   "file_extension": ".py",
   "mimetype": "text/x-python",
   "name": "python",
   "nbconvert_exporter": "python",
   "pygments_lexer": "ipython3",
   "version": "3.7.4"
  }
 },
 "nbformat": 4,
 "nbformat_minor": 1
}
